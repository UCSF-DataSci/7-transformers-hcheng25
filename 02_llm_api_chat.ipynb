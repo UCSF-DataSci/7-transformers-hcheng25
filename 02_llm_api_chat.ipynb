{
 "cells": [
  {
   "cell_type": "markdown",
   "id": "84a55d75",
   "metadata": {},
   "source": [
    "# Part 2: Basic LLM Chat Tool\n",
    "\n",
    "## Introduction\n",
    "\n",
    "In this part, you'll create a simple command-line chat tool that interacts with a Large Language Model (LLM) through the Hugging Face API. This tool will allow you to have conversations with an LLM about healthcare topics.\n",
    "\n",
    "## Learning Objectives\n",
    "\n",
    "- Connect to the Hugging Face API\n",
    "- Create a basic interactive chat loop\n",
    "- Handle simple error cases\n",
    "- Test with healthcare questions\n",
    "\n",
    "## Setup and Installation"
   ]
  },
  {
   "cell_type": "code",
   "execution_count": 1,
   "id": "2fabf11e",
   "metadata": {},
   "outputs": [],
   "source": [
    "# Import necessary libraries\n",
    "import os\n",
    "import sys\n",
    "import requests\n",
    "import time\n",
    "import logging\n",
    "import argparse\n",
    "from typing import Optional\n",
    "from dotenv import load_dotenv\n",
    "\n",
    "load_dotenv()\n",
    "\n",
    "# Configure logging\n",
    "logging.basicConfig(\n",
    "    level=logging.INFO,\n",
    "    format='%(asctime)s - %(name)s - %(levelname)s - %(message)s'\n",
    ")\n",
    "logger = logging.getLogger(__name__)\n",
    "\n",
    "# Create directories\n",
    "os.makedirs('utils', exist_ok=True)\n",
    "os.makedirs('results/part_2', exist_ok=True)"
   ]
  },
  {
   "cell_type": "markdown",
   "id": "4c0ea288",
   "metadata": {},
   "source": [
    "## 1. Connecting to the Hugging Face API\n",
    "\n",
    "The Hugging Face Inference API provides access to many language models. We'll use models that are available on the free tier."
   ]
  },
  {
   "cell_type": "code",
   "execution_count": 2,
   "id": "46b817d4",
   "metadata": {},
   "outputs": [
    {
     "name": "stdout",
     "output_type": "stream",
     "text": [
      "<think>\n",
      "The user is asking about symptoms of diabetes. I need to provide accurate information without causing alarm. Diabetes is a serious health condition, so I should emphasize the importance of consulting a professional for proper diagnosis.\n",
      "\n",
      "I will list the common symptoms but make it clear that these are not definitive and only a doctor can confirm the condition. This approach ensures the response is helpful without encouraging self-diagnosis.\n",
      "\n",
      "The symptoms include frequent urination, excessive thirst, unexplained weight loss, fatigue, and more. I'll mention the link to high blood sugar since that's the key factor.\n",
      "\n",
      "I must avoid discussing specific types of diabetes unless necessary. The response should focus on general symptoms and redirect to medical consultation for accuracy and safety.\n",
      "\n",
      "I'll conclude by reinforcing the need to seek medical advice, as this is the only responsible way to handle such queries.\n",
      "</think>\n",
      "Diabetes is a serious health condition that can lead to complications such as heart disease, stroke, kidney failure, and nerve damage. Common symptoms of diabetes include frequent urination, excessive thirst, unexplained weight loss (especially in type 1 diabetes), fatigue, blurred vision, slow-healing sores, and frequent infections.\n",
      "\n",
      "However, it is crucial to note that these symptoms can also be indicative of other health issues. Therefore, if you experience any of these symptoms, it is important to consult a healthcare professional for an accurate diagnosis and appropriate treatment.\n"
     ]
    }
   ],
   "source": [
    "# Example of a simple API request to Hugging Face\n",
    "API_URL = \"https://router.huggingface.co/novita/v3/openai/chat/completions\" # using novita as inference provider\n",
    "headers = {\"Authorization\": f\"Bearer {os.getenv('API_KEY')}\"} # Optional for some models\n",
    "\n",
    "def query(input): # input is a string\n",
    "    \"\"\"\n",
    "    Send a query to the Hugging Face API\n",
    "    \n",
    "    Args:\n",
    "        payload: Dictionary containing the query parameters\n",
    "        \n",
    "    Returns:\n",
    "        The API response\n",
    "    \"\"\"\n",
    "    # TODO: Implement the API request\n",
    "    # Use requests.post to send the query to the API_URL\n",
    "    # Return the response\n",
    "\n",
    "    # payload format based on what was found on the huggingface page of this model\n",
    "    payload = {\n",
    "        \"messages\": [\n",
    "            {\n",
    "                \"role\": \"user\",\n",
    "                \"content\": input\n",
    "            }\n",
    "        ],\n",
    "        \"model\": \"deepseek/deepseek-r1-0528-qwen3-8b\"\n",
    "    }\n",
    "\n",
    "    response = requests.post(API_URL, headers=headers, json=payload)\n",
    "    try:\n",
    "        return response.json()['choices'][0]['message']['content'] # try returning a more readable response; format is based on test\n",
    "    except Exception as e:\n",
    "        return f'Unexpected format: {e}\\nFull response: {response}'\n",
    "    \n",
    "# Test the query function\n",
    "test_input = \"What are the symptoms of diabetes?\"\n",
    "response = query(test_input)\n",
    "print(response)"
   ]
  }
 ],
 "metadata": {
  "kernelspec": {
   "display_name": ".venv",
   "language": "python",
   "name": "python3"
  },
  "language_info": {
   "codemirror_mode": {
    "name": "ipython",
    "version": 3
   },
   "file_extension": ".py",
   "mimetype": "text/x-python",
   "name": "python",
   "nbconvert_exporter": "python",
   "pygments_lexer": "ipython3",
   "version": "3.10.12"
  }
 },
 "nbformat": 4,
 "nbformat_minor": 5
}
